{
 "cells": [
  {
   "cell_type": "markdown",
   "metadata": {},
   "source": [
    "# Tabalho 1: Ciência de dados\n",
    "# Carlos Henrique Arguilar - 00303073"
   ]
  },
  {
   "cell_type": "markdown",
   "metadata": {},
   "source": [
    "## Dados 1: Numéricos"
   ]
  },
  {
   "cell_type": "code",
   "execution_count": 2,
   "metadata": {},
   "outputs": [],
   "source": [
    "import pandas as pd\n",
    "import numpy as np\n",
    "import matplotlib.pyplot as plt"
   ]
  },
  {
   "cell_type": "code",
   "execution_count": 3,
   "metadata": {},
   "outputs": [],
   "source": [
    "df = pd.read_csv('dados1.csv')"
   ]
  },
  {
   "cell_type": "markdown",
   "metadata": {},
   "source": [
    "Importando para um dataframe os dados da primeira base, vemos que se trata de uma base com duas variáveis de entrada numéricas (X1 e X2) e uma variável numérica de saída (Y)."
   ]
  },
  {
   "cell_type": "code",
   "execution_count": 4,
   "metadata": {},
   "outputs": [
    {
     "data": {
      "text/html": [
       "<div>\n",
       "<style scoped>\n",
       "    .dataframe tbody tr th:only-of-type {\n",
       "        vertical-align: middle;\n",
       "    }\n",
       "\n",
       "    .dataframe tbody tr th {\n",
       "        vertical-align: top;\n",
       "    }\n",
       "\n",
       "    .dataframe thead th {\n",
       "        text-align: right;\n",
       "    }\n",
       "</style>\n",
       "<table border=\"1\" class=\"dataframe\">\n",
       "  <thead>\n",
       "    <tr style=\"text-align: right;\">\n",
       "      <th></th>\n",
       "      <th>X1</th>\n",
       "      <th>X2</th>\n",
       "      <th>Y</th>\n",
       "    </tr>\n",
       "  </thead>\n",
       "  <tbody>\n",
       "    <tr>\n",
       "      <th>0</th>\n",
       "      <td>10.294924</td>\n",
       "      <td>4.748808</td>\n",
       "      <td>0.448642</td>\n",
       "    </tr>\n",
       "    <tr>\n",
       "      <th>1</th>\n",
       "      <td>11.466981</td>\n",
       "      <td>23.063941</td>\n",
       "      <td>0.622515</td>\n",
       "    </tr>\n",
       "    <tr>\n",
       "      <th>2</th>\n",
       "      <td>8.745475</td>\n",
       "      <td>92.809303</td>\n",
       "      <td>0.001725</td>\n",
       "    </tr>\n",
       "    <tr>\n",
       "      <th>3</th>\n",
       "      <td>10.329279</td>\n",
       "      <td>-18.178491</td>\n",
       "      <td>0.146117</td>\n",
       "    </tr>\n",
       "    <tr>\n",
       "      <th>4</th>\n",
       "      <td>16.715403</td>\n",
       "      <td>43.838181</td>\n",
       "      <td>0.201825</td>\n",
       "    </tr>\n",
       "    <tr>\n",
       "      <th>5</th>\n",
       "      <td>6.035598</td>\n",
       "      <td>93.948313</td>\n",
       "      <td>0.039300</td>\n",
       "    </tr>\n",
       "    <tr>\n",
       "      <th>6</th>\n",
       "      <td>20.467289</td>\n",
       "      <td>-45.867588</td>\n",
       "      <td>0.205348</td>\n",
       "    </tr>\n",
       "    <tr>\n",
       "      <th>7</th>\n",
       "      <td>19.176697</td>\n",
       "      <td>-5.426366</td>\n",
       "      <td>0.319930</td>\n",
       "    </tr>\n",
       "    <tr>\n",
       "      <th>8</th>\n",
       "      <td>7.322779</td>\n",
       "      <td>10.194489</td>\n",
       "      <td>0.417330</td>\n",
       "    </tr>\n",
       "    <tr>\n",
       "      <th>9</th>\n",
       "      <td>12.999714</td>\n",
       "      <td>-67.052049</td>\n",
       "      <td>-0.093827</td>\n",
       "    </tr>\n",
       "    <tr>\n",
       "      <th>10</th>\n",
       "      <td>1.912730</td>\n",
       "      <td>-78.214368</td>\n",
       "      <td>0.126389</td>\n",
       "    </tr>\n",
       "    <tr>\n",
       "      <th>11</th>\n",
       "      <td>7.952762</td>\n",
       "      <td>-73.237100</td>\n",
       "      <td>-0.138741</td>\n",
       "    </tr>\n",
       "    <tr>\n",
       "      <th>12</th>\n",
       "      <td>29.307859</td>\n",
       "      <td>-78.407612</td>\n",
       "      <td>-0.153620</td>\n",
       "    </tr>\n",
       "    <tr>\n",
       "      <th>13</th>\n",
       "      <td>25.623973</td>\n",
       "      <td>20.564049</td>\n",
       "      <td>0.444362</td>\n",
       "    </tr>\n",
       "    <tr>\n",
       "      <th>14</th>\n",
       "      <td>23.306638</td>\n",
       "      <td>-53.603620</td>\n",
       "      <td>-0.108079</td>\n",
       "    </tr>\n",
       "    <tr>\n",
       "      <th>15</th>\n",
       "      <td>22.247859</td>\n",
       "      <td>-74.766407</td>\n",
       "      <td>0.185001</td>\n",
       "    </tr>\n",
       "    <tr>\n",
       "      <th>16</th>\n",
       "      <td>20.786429</td>\n",
       "      <td>-32.596985</td>\n",
       "      <td>0.057208</td>\n",
       "    </tr>\n",
       "    <tr>\n",
       "      <th>17</th>\n",
       "      <td>6.587005</td>\n",
       "      <td>78.759675</td>\n",
       "      <td>0.052724</td>\n",
       "    </tr>\n",
       "    <tr>\n",
       "      <th>18</th>\n",
       "      <td>15.787059</td>\n",
       "      <td>83.717120</td>\n",
       "      <td>-0.067237</td>\n",
       "    </tr>\n",
       "    <tr>\n",
       "      <th>19</th>\n",
       "      <td>13.304869</td>\n",
       "      <td>82.847003</td>\n",
       "      <td>-0.008489</td>\n",
       "    </tr>\n",
       "  </tbody>\n",
       "</table>\n",
       "</div>"
      ],
      "text/plain": [
       "           X1         X2         Y\n",
       "0   10.294924   4.748808  0.448642\n",
       "1   11.466981  23.063941  0.622515\n",
       "2    8.745475  92.809303  0.001725\n",
       "3   10.329279 -18.178491  0.146117\n",
       "4   16.715403  43.838181  0.201825\n",
       "5    6.035598  93.948313  0.039300\n",
       "6   20.467289 -45.867588  0.205348\n",
       "7   19.176697  -5.426366  0.319930\n",
       "8    7.322779  10.194489  0.417330\n",
       "9   12.999714 -67.052049 -0.093827\n",
       "10   1.912730 -78.214368  0.126389\n",
       "11   7.952762 -73.237100 -0.138741\n",
       "12  29.307859 -78.407612 -0.153620\n",
       "13  25.623973  20.564049  0.444362\n",
       "14  23.306638 -53.603620 -0.108079\n",
       "15  22.247859 -74.766407  0.185001\n",
       "16  20.786429 -32.596985  0.057208\n",
       "17   6.587005  78.759675  0.052724\n",
       "18  15.787059  83.717120 -0.067237\n",
       "19  13.304869  82.847003 -0.008489"
      ]
     },
     "execution_count": 4,
     "metadata": {},
     "output_type": "execute_result"
    }
   ],
   "source": [
    "df"
   ]
  },
  {
   "cell_type": "markdown",
   "metadata": {},
   "source": [
    "A seguir, plotamos o gráfico de X1 e X2 por Y, para observar se alguma correlação pode ser notada. "
   ]
  },
  {
   "cell_type": "code",
   "execution_count": 5,
   "metadata": {},
   "outputs": [
    {
     "data": {
      "image/png": "[encoded data removed]",
      "text/plain": [
       "<Figure size 432x288 with 1 Axes>"
      ]
     },
     "metadata": {
      "needs_background": "light"
     },
     "output_type": "display_data"
    }
   ],
   "source": [
    "plt.scatter(df[\"X1\"],df[\"Y\"], label='X1')\n",
    "plt.scatter(df[\"X2\"],df[\"Y\"], label='X2')\n",
    "plt.legend()\n",
    "plt.ylabel('Y')\n",
    "plt.show()"
   ]
  },
  {
   "cell_type": "markdown",
   "metadata": {},
   "source": [
    "No gráfico acima é possível ver que nenhum das duas variáveis X1 e X2 parece ter relação linear com Y, em particular X1 não parece ter nenhum correlação aparente com Y. Já X2, aparente poder ter uma relação quadrática com Y, veja que a distribuição dos pontos X2 parece poder ser modelada por uma parábola com concavidade negativa."
   ]
  },
  {
   "cell_type": "markdown",
   "metadata": {},
   "source": [
    "Para verificar se essas hipóteses fazem sentido vejamos alguns dos indicadores númericos dos dados, como média, desvio padrão, valores máximos e mínimos, percentis e especialmente o coeficiente de Pearson que dará uma quantização de colinearidade entre os dados."
   ]
  },
  {
   "cell_type": "code",
   "execution_count": 6,
   "metadata": {},
   "outputs": [
    {
     "data": {
      "text/html": [
       "<div>\n",
       "<style scoped>\n",
       "    .dataframe tbody tr th:only-of-type {\n",
       "        vertical-align: middle;\n",
       "    }\n",
       "\n",
       "    .dataframe tbody tr th {\n",
       "        vertical-align: top;\n",
       "    }\n",
       "\n",
       "    .dataframe thead th {\n",
       "        text-align: right;\n",
       "    }\n",
       "</style>\n",
       "<table border=\"1\" class=\"dataframe\">\n",
       "  <thead>\n",
       "    <tr style=\"text-align: right;\">\n",
       "      <th></th>\n",
       "      <th>X1</th>\n",
       "      <th>X2</th>\n",
       "      <th>Y</th>\n",
       "    </tr>\n",
       "  </thead>\n",
       "  <tbody>\n",
       "    <tr>\n",
       "      <th>count</th>\n",
       "      <td>20.000000</td>\n",
       "      <td>20.000000</td>\n",
       "      <td>20.000000</td>\n",
       "    </tr>\n",
       "    <tr>\n",
       "      <th>mean</th>\n",
       "      <td>14.518566</td>\n",
       "      <td>0.357015</td>\n",
       "      <td>0.134921</td>\n",
       "    </tr>\n",
       "    <tr>\n",
       "      <th>std</th>\n",
       "      <td>7.442088</td>\n",
       "      <td>62.673011</td>\n",
       "      <td>0.221084</td>\n",
       "    </tr>\n",
       "    <tr>\n",
       "      <th>min</th>\n",
       "      <td>1.912730</td>\n",
       "      <td>-78.407612</td>\n",
       "      <td>-0.153620</td>\n",
       "    </tr>\n",
       "    <tr>\n",
       "      <th>25%</th>\n",
       "      <td>8.547297</td>\n",
       "      <td>-56.965727</td>\n",
       "      <td>-0.023176</td>\n",
       "    </tr>\n",
       "    <tr>\n",
       "      <th>50%</th>\n",
       "      <td>13.152291</td>\n",
       "      <td>-0.338779</td>\n",
       "      <td>0.091799</td>\n",
       "    </tr>\n",
       "    <tr>\n",
       "      <th>75%</th>\n",
       "      <td>20.547074</td>\n",
       "      <td>52.568554</td>\n",
       "      <td>0.233993</td>\n",
       "    </tr>\n",
       "    <tr>\n",
       "      <th>max</th>\n",
       "      <td>29.307859</td>\n",
       "      <td>93.948313</td>\n",
       "      <td>0.622515</td>\n",
       "    </tr>\n",
       "  </tbody>\n",
       "</table>\n",
       "</div>"
      ],
      "text/plain": [
       "              X1         X2          Y\n",
       "count  20.000000  20.000000  20.000000\n",
       "mean   14.518566   0.357015   0.134921\n",
       "std     7.442088  62.673011   0.221084\n",
       "min     1.912730 -78.407612  -0.153620\n",
       "25%     8.547297 -56.965727  -0.023176\n",
       "50%    13.152291  -0.338779   0.091799\n",
       "75%    20.547074  52.568554   0.233993\n",
       "max    29.307859  93.948313   0.622515"
      ]
     },
     "execution_count": 6,
     "metadata": {},
     "output_type": "execute_result"
    }
   ],
   "source": [
    "df.describe()"
   ]
  },
  {
   "cell_type": "code",
   "execution_count": 7,
   "metadata": {},
   "outputs": [
    {
     "data": {
      "text/html": [
       "<div>\n",
       "<style scoped>\n",
       "    .dataframe tbody tr th:only-of-type {\n",
       "        vertical-align: middle;\n",
       "    }\n",
       "\n",
       "    .dataframe tbody tr th {\n",
       "        vertical-align: top;\n",
       "    }\n",
       "\n",
       "    .dataframe thead th {\n",
       "        text-align: right;\n",
       "    }\n",
       "</style>\n",
       "<table border=\"1\" class=\"dataframe\">\n",
       "  <thead>\n",
       "    <tr style=\"text-align: right;\">\n",
       "      <th></th>\n",
       "      <th>X1</th>\n",
       "      <th>X2</th>\n",
       "      <th>Y</th>\n",
       "    </tr>\n",
       "  </thead>\n",
       "  <tbody>\n",
       "    <tr>\n",
       "      <th>X1</th>\n",
       "      <td>1.000000</td>\n",
       "      <td>-0.322402</td>\n",
       "      <td>-0.06811</td>\n",
       "    </tr>\n",
       "    <tr>\n",
       "      <th>X2</th>\n",
       "      <td>-0.322402</td>\n",
       "      <td>1.000000</td>\n",
       "      <td>0.13042</td>\n",
       "    </tr>\n",
       "    <tr>\n",
       "      <th>Y</th>\n",
       "      <td>-0.068110</td>\n",
       "      <td>0.130420</td>\n",
       "      <td>1.00000</td>\n",
       "    </tr>\n",
       "  </tbody>\n",
       "</table>\n",
       "</div>"
      ],
      "text/plain": [
       "          X1        X2        Y\n",
       "X1  1.000000 -0.322402 -0.06811\n",
       "X2 -0.322402  1.000000  0.13042\n",
       "Y  -0.068110  0.130420  1.00000"
      ]
     },
     "execution_count": 7,
     "metadata": {},
     "output_type": "execute_result"
    }
   ],
   "source": [
    "df.corr(method='pearson')"
   ]
  },
  {
   "cell_type": "markdown",
   "metadata": {},
   "source": [
    "Vemos que de fato nem uma das variáveis entre si parecem ter uma relação linear. Particularmente, o coeficiente de pearson entre X1 e Y sendo muito próximo de zero, indica que de fato os dados não parecem ter correlação. Contudo para testar a hipótese de que Y pode ser descrito como um modelo quadrático de X2, podemos elevar ao quadrado os valores de X2 e verificar se esses valores irão gerar um coeficiente de pearson que indique uma correlação linear."
   ]
  },
  {
   "cell_type": "code",
   "execution_count": 74,
   "metadata": {},
   "outputs": [],
   "source": [
    "# X22 é X2^2\n",
    "df['X22'] = df['X2']**2"
   ]
  },
  {
   "cell_type": "code",
   "execution_count": 75,
   "metadata": {},
   "outputs": [
    {
     "data": {
      "text/plain": [
       "<matplotlib.collections.PathCollection at 0x7faf8af1abc0>"
      ]
     },
     "execution_count": 75,
     "metadata": {},
     "output_type": "execute_result"
    },
    {
     "data": {
      "image/png": "[encoded data removed]",
      "text/plain": [
       "<Figure size 432x288 with 1 Axes>"
      ]
     },
     "metadata": {
      "needs_background": "light"
     },
     "output_type": "display_data"
    }
   ],
   "source": [
    "plt.scatter(df[\"X22\"],df[\"Y\"], label='X2')"
   ]
  },
  {
   "cell_type": "code",
   "execution_count": 76,
   "metadata": {
    "scrolled": true
   },
   "outputs": [
    {
     "data": {
      "text/html": [
       "<div>\n",
       "<style scoped>\n",
       "    .dataframe tbody tr th:only-of-type {\n",
       "        vertical-align: middle;\n",
       "    }\n",
       "\n",
       "    .dataframe tbody tr th {\n",
       "        vertical-align: top;\n",
       "    }\n",
       "\n",
       "    .dataframe thead th {\n",
       "        text-align: right;\n",
       "    }\n",
       "</style>\n",
       "<table border=\"1\" class=\"dataframe\">\n",
       "  <thead>\n",
       "    <tr style=\"text-align: right;\">\n",
       "      <th></th>\n",
       "      <th>X1</th>\n",
       "      <th>X2</th>\n",
       "      <th>Y</th>\n",
       "      <th>X22</th>\n",
       "    </tr>\n",
       "  </thead>\n",
       "  <tbody>\n",
       "    <tr>\n",
       "      <th>X1</th>\n",
       "      <td>1.000000</td>\n",
       "      <td>-0.322402</td>\n",
       "      <td>-0.068110</td>\n",
       "      <td>-0.248363</td>\n",
       "    </tr>\n",
       "    <tr>\n",
       "      <th>X2</th>\n",
       "      <td>-0.322402</td>\n",
       "      <td>1.000000</td>\n",
       "      <td>0.130420</td>\n",
       "      <td>0.268260</td>\n",
       "    </tr>\n",
       "    <tr>\n",
       "      <th>Y</th>\n",
       "      <td>-0.068110</td>\n",
       "      <td>0.130420</td>\n",
       "      <td>1.000000</td>\n",
       "      <td>-0.693569</td>\n",
       "    </tr>\n",
       "    <tr>\n",
       "      <th>X22</th>\n",
       "      <td>-0.248363</td>\n",
       "      <td>0.268260</td>\n",
       "      <td>-0.693569</td>\n",
       "      <td>1.000000</td>\n",
       "    </tr>\n",
       "  </tbody>\n",
       "</table>\n",
       "</div>"
      ],
      "text/plain": [
       "           X1        X2         Y       X22\n",
       "X1   1.000000 -0.322402 -0.068110 -0.248363\n",
       "X2  -0.322402  1.000000  0.130420  0.268260\n",
       "Y   -0.068110  0.130420  1.000000 -0.693569\n",
       "X22 -0.248363  0.268260 -0.693569  1.000000"
      ]
     },
     "execution_count": 76,
     "metadata": {},
     "output_type": "execute_result"
    }
   ],
   "source": [
    "df.corr()"
   ]
  },
  {
   "cell_type": "markdown",
   "metadata": {},
   "source": [
    "Vemos tanto pelo gráfico quanto pela tabela de correlação que de fato é razoável estimarmos Y como uma função quadrática de X2, para isso podemos fazer um fit polinomial utilizando o numpy:"
   ]
  },
  {
   "cell_type": "code",
   "execution_count": 7,
   "metadata": {},
   "outputs": [],
   "source": [
    "fit2 = np.polyfit(df['X2'], df['Y'], 2) \n",
    "fitted2 = np.polyval(fit2, df['X2'])\n",
    "\n",
    "df_fit2 = pd.DataFrame(data={'X':df['X2'], 'Y':fitted2}).sort_values('X')"
   ]
  },
  {
   "cell_type": "code",
   "execution_count": 21,
   "metadata": {
    "scrolled": true
   },
   "outputs": [
    {
     "data": {
      "text/plain": [
       "array([-5.61032796e-05,  1.20296717e-03,  3.43848822e-01])"
      ]
     },
     "execution_count": 21,
     "metadata": {},
     "output_type": "execute_result"
    }
   ],
   "source": [
    "fit2"
   ]
  },
  {
   "cell_type": "markdown",
   "metadata": {},
   "source": [
    "Com o fit calculado acima obtemos:\n",
    "\n",
    "$Y \\approx -5.61 \\cdot 10^{-5} X2^2 + 1.20 \\cdot 10^{-3} X2 + 3.44 \\cdot 10^{-1}$\n",
    "\n",
    "(Note que na expressão acima não aparece X1, pois como vimos as variáveis parecem tem uma correlação muito baixa então não foi levada em conta na expressão)\n",
    "\n",
    "Podemos plotar o gráfico do polinômio calculado e ver que de fato o modelo parece ser razoável para os dados apresentados:"
   ]
  },
  {
   "cell_type": "code",
   "execution_count": 22,
   "metadata": {},
   "outputs": [
    {
     "data": {
      "image/png": "[encoded data removed]",
      "text/plain": [
       "<Figure size 432x288 with 1 Axes>"
      ]
     },
     "metadata": {
      "needs_background": "light"
     },
     "output_type": "display_data"
    }
   ],
   "source": [
    "plt.scatter(df[\"X2\"],df[\"Y\"], label='X2')\n",
    "plt.plot(df_fit2['X'], df_fit2['Y'], label='Fit2 Curve',color='gray',zorder=-1)\n",
    "plt.scatter(df[\"X2\"], fitted2, label=\"Fit2 pt's\")\n",
    "plt.legend()\n",
    "plt.ylabel('Y')\n",
    "\n",
    "plt.show()"
   ]
  },
  {
   "cell_type": "markdown",
   "metadata": {},
   "source": [
    "## Dados 2: Categóricos"
   ]
  },
  {
   "cell_type": "code",
   "execution_count": 34,
   "metadata": {},
   "outputs": [],
   "source": [
    "df = pd.read_csv('dados2.csv')"
   ]
  },
  {
   "cell_type": "code",
   "execution_count": 35,
   "metadata": {},
   "outputs": [],
   "source": [
    "df = df.rename(columns={' Categoria ':'categoria', ' X2':'X2'})"
   ]
  },
  {
   "cell_type": "code",
   "execution_count": 36,
   "metadata": {},
   "outputs": [
    {
     "data": {
      "text/plain": [
       "Index(['X1', 'X2', 'categoria'], dtype='object')"
      ]
     },
     "execution_count": 36,
     "metadata": {},
     "output_type": "execute_result"
    }
   ],
   "source": [
    "df.columns"
   ]
  },
  {
   "cell_type": "code",
   "execution_count": 37,
   "metadata": {
    "scrolled": true
   },
   "outputs": [
    {
     "data": {
      "text/html": [
       "<div>\n",
       "<style scoped>\n",
       "    .dataframe tbody tr th:only-of-type {\n",
       "        vertical-align: middle;\n",
       "    }\n",
       "\n",
       "    .dataframe tbody tr th {\n",
       "        vertical-align: top;\n",
       "    }\n",
       "\n",
       "    .dataframe thead th {\n",
       "        text-align: right;\n",
       "    }\n",
       "</style>\n",
       "<table border=\"1\" class=\"dataframe\">\n",
       "  <thead>\n",
       "    <tr style=\"text-align: right;\">\n",
       "      <th></th>\n",
       "      <th>X1</th>\n",
       "      <th>X2</th>\n",
       "      <th>categoria</th>\n",
       "    </tr>\n",
       "  </thead>\n",
       "  <tbody>\n",
       "    <tr>\n",
       "      <th>0</th>\n",
       "      <td>25.032328</td>\n",
       "      <td>99.419902</td>\n",
       "      <td>A</td>\n",
       "    </tr>\n",
       "    <tr>\n",
       "      <th>1</th>\n",
       "      <td>29.657765</td>\n",
       "      <td>-80.850355</td>\n",
       "      <td>B</td>\n",
       "    </tr>\n",
       "    <tr>\n",
       "      <th>2</th>\n",
       "      <td>22.446764</td>\n",
       "      <td>-3.111067</td>\n",
       "      <td>A</td>\n",
       "    </tr>\n",
       "    <tr>\n",
       "      <th>3</th>\n",
       "      <td>1.299994</td>\n",
       "      <td>99.691598</td>\n",
       "      <td>B</td>\n",
       "    </tr>\n",
       "    <tr>\n",
       "      <th>4</th>\n",
       "      <td>7.603403</td>\n",
       "      <td>26.899483</td>\n",
       "      <td>A</td>\n",
       "    </tr>\n",
       "    <tr>\n",
       "      <th>5</th>\n",
       "      <td>29.822193</td>\n",
       "      <td>53.061663</td>\n",
       "      <td>A</td>\n",
       "    </tr>\n",
       "    <tr>\n",
       "      <th>6</th>\n",
       "      <td>5.722317</td>\n",
       "      <td>-70.257208</td>\n",
       "      <td>A</td>\n",
       "    </tr>\n",
       "    <tr>\n",
       "      <th>7</th>\n",
       "      <td>27.651264</td>\n",
       "      <td>61.462682</td>\n",
       "      <td>A</td>\n",
       "    </tr>\n",
       "    <tr>\n",
       "      <th>8</th>\n",
       "      <td>26.547300</td>\n",
       "      <td>-45.981975</td>\n",
       "      <td>B</td>\n",
       "    </tr>\n",
       "    <tr>\n",
       "      <th>9</th>\n",
       "      <td>17.974244</td>\n",
       "      <td>65.835979</td>\n",
       "      <td>B</td>\n",
       "    </tr>\n",
       "    <tr>\n",
       "      <th>10</th>\n",
       "      <td>7.604900</td>\n",
       "      <td>-75.146810</td>\n",
       "      <td>B</td>\n",
       "    </tr>\n",
       "    <tr>\n",
       "      <th>11</th>\n",
       "      <td>0.410093</td>\n",
       "      <td>-54.056262</td>\n",
       "      <td>B</td>\n",
       "    </tr>\n",
       "    <tr>\n",
       "      <th>12</th>\n",
       "      <td>19.943300</td>\n",
       "      <td>-83.054357</td>\n",
       "      <td>B</td>\n",
       "    </tr>\n",
       "    <tr>\n",
       "      <th>13</th>\n",
       "      <td>21.550541</td>\n",
       "      <td>-80.983302</td>\n",
       "      <td>B</td>\n",
       "    </tr>\n",
       "    <tr>\n",
       "      <th>14</th>\n",
       "      <td>26.863967</td>\n",
       "      <td>-81.643978</td>\n",
       "      <td>B</td>\n",
       "    </tr>\n",
       "    <tr>\n",
       "      <th>15</th>\n",
       "      <td>6.631874</td>\n",
       "      <td>-99.498789</td>\n",
       "      <td>B</td>\n",
       "    </tr>\n",
       "    <tr>\n",
       "      <th>16</th>\n",
       "      <td>11.536494</td>\n",
       "      <td>-35.688339</td>\n",
       "      <td>B</td>\n",
       "    </tr>\n",
       "    <tr>\n",
       "      <th>17</th>\n",
       "      <td>16.574775</td>\n",
       "      <td>48.274383</td>\n",
       "      <td>A</td>\n",
       "    </tr>\n",
       "    <tr>\n",
       "      <th>18</th>\n",
       "      <td>10.523168</td>\n",
       "      <td>-98.891260</td>\n",
       "      <td>B</td>\n",
       "    </tr>\n",
       "    <tr>\n",
       "      <th>19</th>\n",
       "      <td>17.124844</td>\n",
       "      <td>-22.412435</td>\n",
       "      <td>B</td>\n",
       "    </tr>\n",
       "  </tbody>\n",
       "</table>\n",
       "</div>"
      ],
      "text/plain": [
       "           X1         X2 categoria\n",
       "0   25.032328  99.419902         A\n",
       "1   29.657765 -80.850355         B\n",
       "2   22.446764  -3.111067         A\n",
       "3    1.299994  99.691598         B\n",
       "4    7.603403  26.899483         A\n",
       "5   29.822193  53.061663         A\n",
       "6    5.722317 -70.257208         A\n",
       "7   27.651264  61.462682         A\n",
       "8   26.547300 -45.981975         B\n",
       "9   17.974244  65.835979         B\n",
       "10   7.604900 -75.146810         B\n",
       "11   0.410093 -54.056262         B\n",
       "12  19.943300 -83.054357         B\n",
       "13  21.550541 -80.983302         B\n",
       "14  26.863967 -81.643978         B\n",
       "15   6.631874 -99.498789         B\n",
       "16  11.536494 -35.688339         B\n",
       "17  16.574775  48.274383         A\n",
       "18  10.523168 -98.891260         B\n",
       "19  17.124844 -22.412435         B"
      ]
     },
     "execution_count": 37,
     "metadata": {},
     "output_type": "execute_result"
    }
   ],
   "source": [
    "df"
   ]
  },
  {
   "cell_type": "markdown",
   "metadata": {},
   "source": [
    "Vemos no dataframe acima que temos a variável de saída categorica, e para podermos verificar em um gráfico, já adicionamos uma coluna com uma cor correspondente, vermelho para categoria A e azul para B, a seguir plotamos o gráfico X1 x X2"
   ]
  },
  {
   "cell_type": "code",
   "execution_count": 38,
   "metadata": {},
   "outputs": [],
   "source": [
    "def get_color(column_categoria):\n",
    "    return column_categoria.apply(lambda x: 'red' if x=='A' else 'blue')"
   ]
  },
  {
   "cell_type": "code",
   "execution_count": 39,
   "metadata": {
    "scrolled": true
   },
   "outputs": [
    {
     "data": {
      "image/png": "[encoded data removed]",
      "text/plain": [
       "<Figure size 432x288 with 1 Axes>"
      ]
     },
     "metadata": {
      "needs_background": "light"
     },
     "output_type": "display_data"
    }
   ],
   "source": [
    "plt.scatter(df[\"X1\"],df[\"X2\"], color=get_color(df['categoria']))\n",
    "plt.xlim(-110,110)\n",
    "plt.ylim(-110,110)\n",
    "plt.show()"
   ]
  },
  {
   "cell_type": "markdown",
   "metadata": {},
   "source": [
    "Por serem variáveis categóricas, podemos modelar os dados através do K Neareast Neighbours (KNN), abaixo foi feita uma função para calcular a categoria de uma observação baseada na categoria dos k vizinhos mais próximos.\n",
    "\n"
   ]
  },
  {
   "cell_type": "code",
   "execution_count": 40,
   "metadata": {},
   "outputs": [],
   "source": [
    "def get_knn(idx_line, k=10):\n",
    "    line = df.loc[idx_line]\n",
    "    df_other_points = df.drop(idx_line)\n",
    "    \n",
    "    # Calculate distance\n",
    "    def get_dist(row):\n",
    "        dx1 = line['X1'] - row['X1']\n",
    "        dx2 = line['X2'] - row['X2']\n",
    "        \n",
    "        return np.sqrt(dx1**2 + dx2**2)\n",
    "    \n",
    "    # Make a columns with distance from reference point\n",
    "    df_other_points['distance'] = df_other_points.index.to_series().apply(\n",
    "            lambda x: get_dist(df_other_points.loc[x])\n",
    "            )\n",
    "    \n",
    "    # Sort by distance\n",
    "    df_other_points = df_other_points.sort_values('distance')\n",
    "    \n",
    "    # Select category by most frequent class in k nearest neighbors\n",
    "    category = df_other_points.head(k)['categoria'].value_counts().index[0]\n",
    "    \n",
    "    return category"
   ]
  },
  {
   "cell_type": "markdown",
   "metadata": {},
   "source": [
    "A baixo finalmente rodamos o modelo para K=1, K=10 e K=5, e contamos os respectivos erros. Vemos que K=1 obtém 7 erros, K=10 obtém 5 erro e K=5, 4 erros."
   ]
  },
  {
   "cell_type": "markdown",
   "metadata": {},
   "source": [
    "## K = 1"
   ]
  },
  {
   "cell_type": "code",
   "execution_count": 41,
   "metadata": {},
   "outputs": [],
   "source": [
    "df['K1'] = df.index.to_series().apply(lambda x: get_knn(x, 1))"
   ]
  },
  {
   "cell_type": "code",
   "execution_count": 42,
   "metadata": {
    "scrolled": true
   },
   "outputs": [
    {
     "data": {
      "image/png": "[encoded data removed]",
      "text/plain": [
       "<Figure size 432x288 with 1 Axes>"
      ]
     },
     "metadata": {
      "needs_background": "light"
     },
     "output_type": "display_data"
    }
   ],
   "source": [
    "plt.scatter(df[\"X1\"],df[\"X2\"], color=get_color(df['K1']))\n",
    "plt.xlim(-110,110)\n",
    "plt.ylim(-110,110)\n",
    "plt.show()"
   ]
  },
  {
   "cell_type": "code",
   "execution_count": 43,
   "metadata": {},
   "outputs": [
    {
     "data": {
      "text/plain": [
       "7"
      ]
     },
     "execution_count": 43,
     "metadata": {},
     "output_type": "execute_result"
    }
   ],
   "source": [
    "erros = df['K1'] != df['categoria']\n",
    "sum(erros)"
   ]
  },
  {
   "cell_type": "markdown",
   "metadata": {},
   "source": [
    "## K = 10"
   ]
  },
  {
   "cell_type": "code",
   "execution_count": 44,
   "metadata": {},
   "outputs": [],
   "source": [
    "df['K10'] = df.index.to_series().apply(lambda x: get_knn(x, 10))"
   ]
  },
  {
   "cell_type": "code",
   "execution_count": 45,
   "metadata": {},
   "outputs": [
    {
     "data": {
      "image/png": "[encoded data removed]",
      "text/plain": [
       "<Figure size 432x288 with 1 Axes>"
      ]
     },
     "metadata": {
      "needs_background": "light"
     },
     "output_type": "display_data"
    }
   ],
   "source": [
    "plt.scatter(df[\"X1\"],df[\"X2\"], color=get_color(df['K10']))\n",
    "plt.xlim(-110,110)\n",
    "plt.ylim(-110,110)\n",
    "plt.show()"
   ]
  },
  {
   "cell_type": "code",
   "execution_count": 46,
   "metadata": {},
   "outputs": [
    {
     "data": {
      "text/plain": [
       "5"
      ]
     },
     "execution_count": 46,
     "metadata": {},
     "output_type": "execute_result"
    }
   ],
   "source": [
    "erros = df['K10'] != df['categoria']\n",
    "sum(erros)"
   ]
  },
  {
   "cell_type": "markdown",
   "metadata": {},
   "source": [
    "## K=5"
   ]
  },
  {
   "cell_type": "code",
   "execution_count": 47,
   "metadata": {},
   "outputs": [],
   "source": [
    "df['K5'] = df.index.to_series().apply(lambda x: get_knn(x, 5))"
   ]
  },
  {
   "cell_type": "code",
   "execution_count": 48,
   "metadata": {},
   "outputs": [
    {
     "data": {
      "image/png": "[encoded data removed]",
      "text/plain": [
       "<Figure size 432x288 with 1 Axes>"
      ]
     },
     "metadata": {
      "needs_background": "light"
     },
     "output_type": "display_data"
    }
   ],
   "source": [
    "plt.scatter(df[\"X1\"],df[\"X2\"], color=get_color(df['K5']))\n",
    "plt.xlim(-110,110)\n",
    "plt.ylim(-110,110)\n",
    "plt.show()"
   ]
  },
  {
   "cell_type": "code",
   "execution_count": 49,
   "metadata": {},
   "outputs": [
    {
     "data": {
      "text/plain": [
       "4"
      ]
     },
     "execution_count": 49,
     "metadata": {},
     "output_type": "execute_result"
    }
   ],
   "source": [
    "erros = df['K10'] != df['categoria']\n",
    "sum(erros)"
   ]
  },
  {
   "cell_type": "code",
   "execution_count": null,
   "metadata": {},
   "outputs": [],
   "source": []
  }
 ],
 "metadata": {
  "kernelspec": {
   "display_name": "Python 3",
   "language": "python",
   "name": "python3"
  },
  "language_info": {
   "codemirror_mode": {
    "name": "ipython",
    "version": 3
   },
   "file_extension": ".py",
   "mimetype": "text/x-python",
   "name": "python",
   "nbconvert_exporter": "python",
   "pygments_lexer": "ipython3",
   "version": "3.10.2"
  }
 },
 "nbformat": 4,
 "nbformat_minor": 4
}
