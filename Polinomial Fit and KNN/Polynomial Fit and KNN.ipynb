{
 "cells": [
  {
   "cell_type": "markdown",
   "metadata": {},
   "source": [
    "# Polynomial Regression and KNN\n",
    "\n",
    "This notebook uses two dummy datasets to implement some basic concepts like a polynomial regression of order 2, and a knn model.\n",
    "\n",
    "The first dataset (dataset1.csv) contains two input numeric columns X1 and X2, and one numeric output variable Y. We will use this one to apply the quadratic regression.\n",
    "\n",
    "For the knn model, we will use the second dataset (dataset2.csv), that contains two numeric input variables X1 and X2 and one categorical output variable *category*."
   ]
  },
  {
   "cell_type": "markdown",
   "metadata": {},
   "source": [
    "# Polynomial Regression"
   ]
  },
  {
   "cell_type": "code",
   "execution_count": 2,
   "metadata": {},
   "outputs": [],
   "source": [
    "# Import required libraries\n",
    "import pandas as pd\n",
    "import numpy as np\n",
    "import matplotlib.pyplot as plt"
   ]
  },
  {
   "cell_type": "code",
   "execution_count": 3,
   "metadata": {},
   "outputs": [],
   "source": [
    "# Set plot dpi to get a larger image\n",
    "plt.rcParams['figure.dpi'] = 150"
   ]
  },
  {
   "cell_type": "code",
   "execution_count": 18,
   "metadata": {},
   "outputs": [],
   "source": [
    "# Read data from csv\n",
    "df = pd.read_csv('dataset1.csv')"
   ]
  },
  {
   "cell_type": "markdown",
   "metadata": {},
   "source": [
    "Importing the data of the first file to a dataframe, we can check that the that we have is two input numeric input variables (X1 and X2) and one numeric output variable (Y)."
   ]
  },
  {
   "cell_type": "code",
   "execution_count": 47,
   "metadata": {},
   "outputs": [
    {
     "data": {
      "text/plain": [
       "X1     float64\n",
       "X2     float64\n",
       "Y      float64\n",
       "X22    float64\n",
       "dtype: object"
      ]
     },
     "execution_count": 47,
     "metadata": {},
     "output_type": "execute_result"
    }
   ],
   "source": [
    "# Columns types\n",
    "df.dtypes"
   ]
  },
  {
   "cell_type": "code",
   "execution_count": 19,
   "metadata": {},
   "outputs": [
    {
     "data": {
      "text/html": [
       "<div>\n",
       "<style scoped>\n",
       "    .dataframe tbody tr th:only-of-type {\n",
       "        vertical-align: middle;\n",
       "    }\n",
       "\n",
       "    .dataframe tbody tr th {\n",
       "        vertical-align: top;\n",
       "    }\n",
       "\n",
       "    .dataframe thead th {\n",
       "        text-align: right;\n",
       "    }\n",
       "</style>\n",
       "<table border=\"1\" class=\"dataframe\">\n",
       "  <thead>\n",
       "    <tr style=\"text-align: right;\">\n",
       "      <th></th>\n",
       "      <th>X1</th>\n",
       "      <th>X2</th>\n",
       "      <th>Y</th>\n",
       "    </tr>\n",
       "  </thead>\n",
       "  <tbody>\n",
       "    <tr>\n",
       "      <th>0</th>\n",
       "      <td>10.294924</td>\n",
       "      <td>4.748808</td>\n",
       "      <td>0.448642</td>\n",
       "    </tr>\n",
       "    <tr>\n",
       "      <th>1</th>\n",
       "      <td>11.466981</td>\n",
       "      <td>23.063941</td>\n",
       "      <td>0.622515</td>\n",
       "    </tr>\n",
       "    <tr>\n",
       "      <th>2</th>\n",
       "      <td>8.745475</td>\n",
       "      <td>92.809303</td>\n",
       "      <td>0.001725</td>\n",
       "    </tr>\n",
       "    <tr>\n",
       "      <th>3</th>\n",
       "      <td>10.329279</td>\n",
       "      <td>-18.178491</td>\n",
       "      <td>0.146117</td>\n",
       "    </tr>\n",
       "    <tr>\n",
       "      <th>4</th>\n",
       "      <td>16.715403</td>\n",
       "      <td>43.838181</td>\n",
       "      <td>0.201825</td>\n",
       "    </tr>\n",
       "    <tr>\n",
       "      <th>5</th>\n",
       "      <td>6.035598</td>\n",
       "      <td>93.948313</td>\n",
       "      <td>0.039300</td>\n",
       "    </tr>\n",
       "    <tr>\n",
       "      <th>6</th>\n",
       "      <td>20.467289</td>\n",
       "      <td>-45.867588</td>\n",
       "      <td>0.205348</td>\n",
       "    </tr>\n",
       "    <tr>\n",
       "      <th>7</th>\n",
       "      <td>19.176697</td>\n",
       "      <td>-5.426366</td>\n",
       "      <td>0.319930</td>\n",
       "    </tr>\n",
       "    <tr>\n",
       "      <th>8</th>\n",
       "      <td>7.322779</td>\n",
       "      <td>10.194489</td>\n",
       "      <td>0.417330</td>\n",
       "    </tr>\n",
       "    <tr>\n",
       "      <th>9</th>\n",
       "      <td>12.999714</td>\n",
       "      <td>-67.052049</td>\n",
       "      <td>-0.093827</td>\n",
       "    </tr>\n",
       "  </tbody>\n",
       "</table>\n",
       "</div>"
      ],
      "text/plain": [
       "          X1         X2         Y\n",
       "0  10.294924   4.748808  0.448642\n",
       "1  11.466981  23.063941  0.622515\n",
       "2   8.745475  92.809303  0.001725\n",
       "3  10.329279 -18.178491  0.146117\n",
       "4  16.715403  43.838181  0.201825\n",
       "5   6.035598  93.948313  0.039300\n",
       "6  20.467289 -45.867588  0.205348\n",
       "7  19.176697  -5.426366  0.319930\n",
       "8   7.322779  10.194489  0.417330\n",
       "9  12.999714 -67.052049 -0.093827"
      ]
     },
     "execution_count": 19,
     "metadata": {},
     "output_type": "execute_result"
    }
   ],
   "source": [
    "# Display first 10 rows\n",
    "df.head(10)"
   ]
  },
  {
   "cell_type": "markdown",
   "metadata": {},
   "source": [
    "We can check if the dataframe has some null or invalid value (will be a NaN value since all columns have float 64 type). As we can see, there is no row with a null or invalid value in our dataframe."
   ]
  },
  {
   "cell_type": "code",
   "execution_count": 53,
   "metadata": {},
   "outputs": [
    {
     "data": {
      "text/plain": [
       "X1     0\n",
       "X2     0\n",
       "Y      0\n",
       "X22    0\n",
       "dtype: int64"
      ]
     },
     "execution_count": 53,
     "metadata": {},
     "output_type": "execute_result"
    }
   ],
   "source": [
    "# Getting count of null values\n",
    "df.isna().sum()"
   ]
  },
  {
   "cell_type": "markdown",
   "metadata": {},
   "source": [
    "Now we plot Y against X1 and X2, to see if we can observe by inspection some correlation between the variables."
   ]
  },
  {
   "cell_type": "code",
   "execution_count": 35,
   "metadata": {},
   "outputs": [
    {
     "data": {
      "image/png": "[encoded data removed]",
      "text/plain": [
       "<Figure size 900x600 with 1 Axes>"
      ]
     },
     "metadata": {
      "needs_background": "light"
     },
     "output_type": "display_data"
    }
   ],
   "source": [
    "# Make scatter plot of Y against X1 and X2\n",
    "plt.scatter(df[\"X1\"],df[\"Y\"], label='X1')\n",
    "plt.scatter(df[\"X2\"],df[\"Y\"], label='X2')\n",
    "plt.legend()\n",
    "plt.ylabel('Y')\n",
    "plt.show()"
   ]
  },
  {
   "cell_type": "markdown",
   "metadata": {},
   "source": [
    "In the plot above, we can see that neither X1 or X2 seem to have a linear correlation with Y, X1 in particular do not seem to have any correlation at all with Y. However, it seems that X2 might have a quadratic correlation with Y, since it looks like we can model X2 as a parabola with negative concavity."
   ]
  },
  {
   "cell_type": "markdown",
   "metadata": {},
   "source": [
    "To test if these hypothesis make sense, let's look at some numeric indicators of the data, such as mean, standard deviation, max and min values, percentiles and especially the pearson coeficient, which will give us a quantization of the colinearity between the variables."
   ]
  },
  {
   "cell_type": "code",
   "execution_count": 36,
   "metadata": {},
   "outputs": [
    {
     "data": {
      "text/html": [
       "<div>\n",
       "<style scoped>\n",
       "    .dataframe tbody tr th:only-of-type {\n",
       "        vertical-align: middle;\n",
       "    }\n",
       "\n",
       "    .dataframe tbody tr th {\n",
       "        vertical-align: top;\n",
       "    }\n",
       "\n",
       "    .dataframe thead th {\n",
       "        text-align: right;\n",
       "    }\n",
       "</style>\n",
       "<table border=\"1\" class=\"dataframe\">\n",
       "  <thead>\n",
       "    <tr style=\"text-align: right;\">\n",
       "      <th></th>\n",
       "      <th>X1</th>\n",
       "      <th>X2</th>\n",
       "      <th>Y</th>\n",
       "      <th>X22</th>\n",
       "    </tr>\n",
       "  </thead>\n",
       "  <tbody>\n",
       "    <tr>\n",
       "      <th>count</th>\n",
       "      <td>20.000000</td>\n",
       "      <td>20.000000</td>\n",
       "      <td>20.000000</td>\n",
       "      <td>20.000000</td>\n",
       "    </tr>\n",
       "    <tr>\n",
       "      <th>mean</th>\n",
       "      <td>14.518566</td>\n",
       "      <td>0.357015</td>\n",
       "      <td>0.134921</td>\n",
       "      <td>3731.638394</td>\n",
       "    </tr>\n",
       "    <tr>\n",
       "      <th>std</th>\n",
       "      <td>7.442088</td>\n",
       "      <td>62.673011</td>\n",
       "      <td>0.221084</td>\n",
       "      <td>3093.619700</td>\n",
       "    </tr>\n",
       "    <tr>\n",
       "      <th>min</th>\n",
       "      <td>1.912730</td>\n",
       "      <td>-78.407612</td>\n",
       "      <td>-0.153620</td>\n",
       "      <td>22.551176</td>\n",
       "    </tr>\n",
       "    <tr>\n",
       "      <th>25%</th>\n",
       "      <td>8.547297</td>\n",
       "      <td>-56.965727</td>\n",
       "      <td>-0.023176</td>\n",
       "      <td>504.679042</td>\n",
       "    </tr>\n",
       "    <tr>\n",
       "      <th>50%</th>\n",
       "      <td>13.152291</td>\n",
       "      <td>-0.338779</td>\n",
       "      <td>0.091799</td>\n",
       "      <td>3684.662679</td>\n",
       "    </tr>\n",
       "    <tr>\n",
       "      <th>75%</th>\n",
       "      <td>20.547074</td>\n",
       "      <td>52.568554</td>\n",
       "      <td>0.233993</td>\n",
       "      <td>6161.586827</td>\n",
       "    </tr>\n",
       "    <tr>\n",
       "      <th>max</th>\n",
       "      <td>29.307859</td>\n",
       "      <td>93.948313</td>\n",
       "      <td>0.622515</td>\n",
       "      <td>8826.285540</td>\n",
       "    </tr>\n",
       "  </tbody>\n",
       "</table>\n",
       "</div>"
      ],
      "text/plain": [
       "              X1         X2          Y          X22\n",
       "count  20.000000  20.000000  20.000000    20.000000\n",
       "mean   14.518566   0.357015   0.134921  3731.638394\n",
       "std     7.442088  62.673011   0.221084  3093.619700\n",
       "min     1.912730 -78.407612  -0.153620    22.551176\n",
       "25%     8.547297 -56.965727  -0.023176   504.679042\n",
       "50%    13.152291  -0.338779   0.091799  3684.662679\n",
       "75%    20.547074  52.568554   0.233993  6161.586827\n",
       "max    29.307859  93.948313   0.622515  8826.285540"
      ]
     },
     "execution_count": 36,
     "metadata": {},
     "output_type": "execute_result"
    }
   ],
   "source": [
    "# Get useful statistics about data set\n",
    "df.describe()"
   ]
  },
  {
   "cell_type": "code",
   "execution_count": 37,
   "metadata": {},
   "outputs": [
    {
     "data": {
      "text/html": [
       "<div>\n",
       "<style scoped>\n",
       "    .dataframe tbody tr th:only-of-type {\n",
       "        vertical-align: middle;\n",
       "    }\n",
       "\n",
       "    .dataframe tbody tr th {\n",
       "        vertical-align: top;\n",
       "    }\n",
       "\n",
       "    .dataframe thead th {\n",
       "        text-align: right;\n",
       "    }\n",
       "</style>\n",
       "<table border=\"1\" class=\"dataframe\">\n",
       "  <thead>\n",
       "    <tr style=\"text-align: right;\">\n",
       "      <th></th>\n",
       "      <th>X1</th>\n",
       "      <th>X2</th>\n",
       "      <th>Y</th>\n",
       "      <th>X22</th>\n",
       "    </tr>\n",
       "  </thead>\n",
       "  <tbody>\n",
       "    <tr>\n",
       "      <th>X1</th>\n",
       "      <td>1.000000</td>\n",
       "      <td>-0.322402</td>\n",
       "      <td>-0.068110</td>\n",
       "      <td>-0.248363</td>\n",
       "    </tr>\n",
       "    <tr>\n",
       "      <th>X2</th>\n",
       "      <td>-0.322402</td>\n",
       "      <td>1.000000</td>\n",
       "      <td>0.130420</td>\n",
       "      <td>0.268260</td>\n",
       "    </tr>\n",
       "    <tr>\n",
       "      <th>Y</th>\n",
       "      <td>-0.068110</td>\n",
       "      <td>0.130420</td>\n",
       "      <td>1.000000</td>\n",
       "      <td>-0.693569</td>\n",
       "    </tr>\n",
       "    <tr>\n",
       "      <th>X22</th>\n",
       "      <td>-0.248363</td>\n",
       "      <td>0.268260</td>\n",
       "      <td>-0.693569</td>\n",
       "      <td>1.000000</td>\n",
       "    </tr>\n",
       "  </tbody>\n",
       "</table>\n",
       "</div>"
      ],
      "text/plain": [
       "           X1        X2         Y       X22\n",
       "X1   1.000000 -0.322402 -0.068110 -0.248363\n",
       "X2  -0.322402  1.000000  0.130420  0.268260\n",
       "Y   -0.068110  0.130420  1.000000 -0.693569\n",
       "X22 -0.248363  0.268260 -0.693569  1.000000"
      ]
     },
     "execution_count": 37,
     "metadata": {},
     "output_type": "execute_result"
    }
   ],
   "source": [
    "# Calculate Pearson correlation coeficient\n",
    "df.corr(method='pearson')"
   ]
  },
  {
   "cell_type": "markdown",
   "metadata": {},
   "source": [
    "We can see that in fact, neither of the variables seem to have a linear correlation with each other (absolute value of the coeficient not close to 1). In particular, since the pearson coeficient between X1 and Y is very close to zero, the two variables do not seem to have any correlation at all, as we expected by inspecting the plot of the variables. "
   ]
  },
  {
   "cell_type": "markdown",
   "metadata": {},
   "source": [
    "However, to test if we can model Y as a quadratic function of X2, we can square X2 and see if these values will generate a correlation coeficient that indicates a linear correlation."
   ]
  },
  {
   "cell_type": "code",
   "execution_count": 38,
   "metadata": {},
   "outputs": [],
   "source": [
    "# X22 equals X2^2\n",
    "df['X22'] = df['X2']**2"
   ]
  },
  {
   "cell_type": "code",
   "execution_count": 39,
   "metadata": {},
   "outputs": [
    {
     "data": {
      "text/plain": [
       "<matplotlib.collections.PathCollection at 0x7f2f34c7d2a0>"
      ]
     },
     "execution_count": 39,
     "metadata": {},
     "output_type": "execute_result"
    },
    {
     "data": {
      "image/png": "[encoded data removed]",
      "text/plain": [
       "<Figure size 900x600 with 1 Axes>"
      ]
     },
     "metadata": {
      "needs_background": "light"
     },
     "output_type": "display_data"
    }
   ],
   "source": [
    "# Plotting Y against X22\n",
    "plt.scatter(df[\"X22\"],df[\"Y\"], label='X2')"
   ]
  },
  {
   "cell_type": "code",
   "execution_count": 40,
   "metadata": {
    "scrolled": true
   },
   "outputs": [
    {
     "data": {
      "text/html": [
       "<div>\n",
       "<style scoped>\n",
       "    .dataframe tbody tr th:only-of-type {\n",
       "        vertical-align: middle;\n",
       "    }\n",
       "\n",
       "    .dataframe tbody tr th {\n",
       "        vertical-align: top;\n",
       "    }\n",
       "\n",
       "    .dataframe thead th {\n",
       "        text-align: right;\n",
       "    }\n",
       "</style>\n",
       "<table border=\"1\" class=\"dataframe\">\n",
       "  <thead>\n",
       "    <tr style=\"text-align: right;\">\n",
       "      <th></th>\n",
       "      <th>X1</th>\n",
       "      <th>X2</th>\n",
       "      <th>Y</th>\n",
       "      <th>X22</th>\n",
       "    </tr>\n",
       "  </thead>\n",
       "  <tbody>\n",
       "    <tr>\n",
       "      <th>X1</th>\n",
       "      <td>1.000000</td>\n",
       "      <td>-0.322402</td>\n",
       "      <td>-0.068110</td>\n",
       "      <td>-0.248363</td>\n",
       "    </tr>\n",
       "    <tr>\n",
       "      <th>X2</th>\n",
       "      <td>-0.322402</td>\n",
       "      <td>1.000000</td>\n",
       "      <td>0.130420</td>\n",
       "      <td>0.268260</td>\n",
       "    </tr>\n",
       "    <tr>\n",
       "      <th>Y</th>\n",
       "      <td>-0.068110</td>\n",
       "      <td>0.130420</td>\n",
       "      <td>1.000000</td>\n",
       "      <td>-0.693569</td>\n",
       "    </tr>\n",
       "    <tr>\n",
       "      <th>X22</th>\n",
       "      <td>-0.248363</td>\n",
       "      <td>0.268260</td>\n",
       "      <td>-0.693569</td>\n",
       "      <td>1.000000</td>\n",
       "    </tr>\n",
       "  </tbody>\n",
       "</table>\n",
       "</div>"
      ],
      "text/plain": [
       "           X1        X2         Y       X22\n",
       "X1   1.000000 -0.322402 -0.068110 -0.248363\n",
       "X2  -0.322402  1.000000  0.130420  0.268260\n",
       "Y   -0.068110  0.130420  1.000000 -0.693569\n",
       "X22 -0.248363  0.268260 -0.693569  1.000000"
      ]
     },
     "execution_count": 40,
     "metadata": {},
     "output_type": "execute_result"
    }
   ],
   "source": [
    "# Recalculating correlation\n",
    "df.corr()"
   ]
  },
  {
   "cell_type": "markdown",
   "metadata": {},
   "source": [
    "We can see for the correlation matrix that in fact it's reasonable to estimate Y as a quadratic functions of X2. To make the model, we will make a polynomial fit using numpy."
   ]
  },
  {
   "cell_type": "code",
   "execution_count": 41,
   "metadata": {},
   "outputs": [],
   "source": [
    "# Get least square polynomial fit\n",
    "fit2 = np.polyfit(df['X2'], df['Y'], 2)\n",
    "\n",
    "# Calculating values of the polynomial fit for X2 values\n",
    "fitted2 = np.polyval(fit2, df['X2'])\n",
    "\n",
    "# Creating dataframe with the X2 and the evaluated values\n",
    "df_fit2 = pd.DataFrame(data={'X':df['X2'], 'Y':fitted2}).sort_values('X')"
   ]
  },
  {
   "cell_type": "code",
   "execution_count": 43,
   "metadata": {
    "scrolled": true
   },
   "outputs": [
    {
     "data": {
      "text/plain": [
       "array([-5.61032796e-05,  1.20296717e-03,  3.43848822e-01])"
      ]
     },
     "execution_count": 43,
     "metadata": {},
     "output_type": "execute_result"
    }
   ],
   "source": [
    "# Display polynomial fit coeficients\n",
    "fit2"
   ]
  },
  {
   "cell_type": "markdown",
   "metadata": {},
   "source": [
    "Writing the function using the coeficients calculated by the fit above we get:\n",
    "\n",
    "$Y \\approx -5.61 \\cdot 10^{-5} X2^2 + 1.20 \\cdot 10^{-3} X2 + 3.44 \\cdot 10^{-1}$\n",
    "\n",
    "(Note that X1 does not appear in the expression above, since the variable was discarted in this model for not having a significant correlation with Y).\n",
    "\n",
    "Plotting the graph for the calculated polynomial, we can see that it looks reasonable to model our data."
   ]
  },
  {
   "cell_type": "code",
   "execution_count": 44,
   "metadata": {},
   "outputs": [
    {
     "data": {
      "image/png": "[encoded data removed]",
      "text/plain": [
       "<Figure size 900x600 with 1 Axes>"
      ]
     },
     "metadata": {
      "needs_background": "light"
     },
     "output_type": "display_data"
    }
   ],
   "source": [
    "# Scatter plot of X2\n",
    "plt.scatter(df[\"X2\"],df[\"Y\"], label='X2')\n",
    "\n",
    "# Line plot of fitted values\n",
    "plt.plot(df_fit2['X'], df_fit2['Y'], label='Fit2 Curve',color='gray',zorder=-1)\n",
    "\n",
    "# Scatter plot of fitted values\n",
    "plt.scatter(df[\"X2\"], fitted2, label=\"Fit2 pt's\")\n",
    "\n",
    "# Legend\n",
    "plt.legend()\n",
    "plt.ylabel('Y')\n",
    "\n",
    "plt.show()"
   ]
  },
  {
   "cell_type": "markdown",
   "metadata": {},
   "source": [
    "# KNN"
   ]
  },
  {
   "cell_type": "code",
   "execution_count": 115,
   "metadata": {},
   "outputs": [],
   "source": [
    "# Reading data from file\n",
    "df = pd.read_csv('dataset2.csv')"
   ]
  },
  {
   "cell_type": "code",
   "execution_count": 116,
   "metadata": {},
   "outputs": [],
   "source": [
    "# Renaming \n",
    "df = df.rename(columns={' Categoria ':'category', ' X2':'X2'})"
   ]
  },
  {
   "cell_type": "code",
   "execution_count": 117,
   "metadata": {},
   "outputs": [
    {
     "data": {
      "text/plain": [
       "Index(['X1', 'X2', 'category'], dtype='object')"
      ]
     },
     "execution_count": 117,
     "metadata": {},
     "output_type": "execute_result"
    }
   ],
   "source": [
    "df.columns"
   ]
  },
  {
   "cell_type": "code",
   "execution_count": 118,
   "metadata": {
    "scrolled": true
   },
   "outputs": [
    {
     "data": {
      "text/html": [
       "<div>\n",
       "<style scoped>\n",
       "    .dataframe tbody tr th:only-of-type {\n",
       "        vertical-align: middle;\n",
       "    }\n",
       "\n",
       "    .dataframe tbody tr th {\n",
       "        vertical-align: top;\n",
       "    }\n",
       "\n",
       "    .dataframe thead th {\n",
       "        text-align: right;\n",
       "    }\n",
       "</style>\n",
       "<table border=\"1\" class=\"dataframe\">\n",
       "  <thead>\n",
       "    <tr style=\"text-align: right;\">\n",
       "      <th></th>\n",
       "      <th>X1</th>\n",
       "      <th>X2</th>\n",
       "      <th>category</th>\n",
       "    </tr>\n",
       "  </thead>\n",
       "  <tbody>\n",
       "    <tr>\n",
       "      <th>0</th>\n",
       "      <td>25.032328</td>\n",
       "      <td>99.419902</td>\n",
       "      <td>A</td>\n",
       "    </tr>\n",
       "    <tr>\n",
       "      <th>1</th>\n",
       "      <td>29.657765</td>\n",
       "      <td>-80.850355</td>\n",
       "      <td>B</td>\n",
       "    </tr>\n",
       "    <tr>\n",
       "      <th>2</th>\n",
       "      <td>22.446764</td>\n",
       "      <td>-3.111067</td>\n",
       "      <td>A</td>\n",
       "    </tr>\n",
       "    <tr>\n",
       "      <th>3</th>\n",
       "      <td>1.299994</td>\n",
       "      <td>99.691598</td>\n",
       "      <td>B</td>\n",
       "    </tr>\n",
       "    <tr>\n",
       "      <th>4</th>\n",
       "      <td>7.603403</td>\n",
       "      <td>26.899483</td>\n",
       "      <td>A</td>\n",
       "    </tr>\n",
       "    <tr>\n",
       "      <th>5</th>\n",
       "      <td>29.822193</td>\n",
       "      <td>53.061663</td>\n",
       "      <td>A</td>\n",
       "    </tr>\n",
       "    <tr>\n",
       "      <th>6</th>\n",
       "      <td>5.722317</td>\n",
       "      <td>-70.257208</td>\n",
       "      <td>A</td>\n",
       "    </tr>\n",
       "    <tr>\n",
       "      <th>7</th>\n",
       "      <td>27.651264</td>\n",
       "      <td>61.462682</td>\n",
       "      <td>A</td>\n",
       "    </tr>\n",
       "    <tr>\n",
       "      <th>8</th>\n",
       "      <td>26.547300</td>\n",
       "      <td>-45.981975</td>\n",
       "      <td>B</td>\n",
       "    </tr>\n",
       "    <tr>\n",
       "      <th>9</th>\n",
       "      <td>17.974244</td>\n",
       "      <td>65.835979</td>\n",
       "      <td>B</td>\n",
       "    </tr>\n",
       "  </tbody>\n",
       "</table>\n",
       "</div>"
      ],
      "text/plain": [
       "          X1         X2 category\n",
       "0  25.032328  99.419902        A\n",
       "1  29.657765 -80.850355        B\n",
       "2  22.446764  -3.111067        A\n",
       "3   1.299994  99.691598        B\n",
       "4   7.603403  26.899483        A\n",
       "5  29.822193  53.061663        A\n",
       "6   5.722317 -70.257208        A\n",
       "7  27.651264  61.462682        A\n",
       "8  26.547300 -45.981975        B\n",
       "9  17.974244  65.835979        B"
      ]
     },
     "execution_count": 118,
     "metadata": {},
     "output_type": "execute_result"
    }
   ],
   "source": [
    "df.head(10)"
   ]
  },
  {
   "cell_type": "markdown",
   "metadata": {},
   "source": [
    "In the dataframe above, we can see two numeric input variables (X1 and X2) and one categorical output variable (category). We will add a color column (red for category A and blue for B), and then plot the points with the respective color to see what we get."
   ]
  },
  {
   "cell_type": "code",
   "execution_count": 119,
   "metadata": {},
   "outputs": [],
   "source": [
    "# Creating function to get color based on category\n",
    "get_color = lambda column_category: column_category.apply(lambda x: 'red' if x=='A' else 'blue')"
   ]
  },
  {
   "cell_type": "code",
   "execution_count": 120,
   "metadata": {
    "scrolled": true
   },
   "outputs": [
    {
     "data": {
      "image/png": "[encoded data removed]",
      "text/plain": [
       "<Figure size 432x288 with 1 Axes>"
      ]
     },
     "metadata": {
      "needs_background": "light"
     },
     "output_type": "display_data"
    }
   ],
   "source": [
    "plt.scatter(df[\"X1\"],df[\"X2\"], color=get_color(df['category']))\n",
    "plt.xlim(-110,110)\n",
    "plt.ylim(-110,110)\n",
    "plt.show()"
   ]
  },
  {
   "cell_type": "markdown",
   "metadata": {},
   "source": [
    "Being categorical variables, we can model the data with the K Nearest Neighbours (KNN) method. We created the class below to facilitate the implementation of the knn method."
   ]
  },
  {
   "cell_type": "code",
   "execution_count": 121,
   "metadata": {},
   "outputs": [],
   "source": [
    "class KNN:\n",
    "    \n",
    "    def __init__(self, df: pd.DataFrame, output_var: str) -> None:\n",
    "        '''\n",
    "        df is the dataframe and output_var the output categorical variable\n",
    "        '''\n",
    "        self.df = df\n",
    "        self.Y = df[output_var]\n",
    "        self.X = df.drop(output_var, axis=1)\n",
    "    \n",
    "    \n",
    "    def _get_dist(self, row1: pd.Series, row2: pd.Series) -> np.float64:\n",
    "        '''\n",
    "        Calculate the distance of the 2 points given by the rows passed as parameters\n",
    "        '''\n",
    "        \n",
    "        # Coordinate squared distances\n",
    "        square_dists = [(row1[x] - row2[x])**2 for x in self.X]\n",
    "        \n",
    "        # Getting total distance of the points\n",
    "        distance = np.sqrt(sum(square_dists))\n",
    "        \n",
    "        return distance\n",
    "    \n",
    "    def _get_row_knn_cat(self, idx: int, k: int) -> str:\n",
    "        '''\n",
    "        Returns category of the knn for the row with index idx\n",
    "        '''\n",
    "        \n",
    "        # Getting pd series with the distance from the other points\n",
    "        df_without_idx_row = self.df.drop(idx)\n",
    "        \n",
    "        # Getting distances from point given by idx\n",
    "        dists = df_without_idx_row.apply(lambda row: self._get_dist(self.df.loc[idx], row), axis=1)\n",
    "        \n",
    "        # Sorting the dists (ascending)\n",
    "        df_without_idx_row['distance'] = dists\n",
    "        df_without_idx_row = df_without_idx_row.sort_values('distance')\n",
    "        \n",
    "        # Select category by most frequent class in k nearest neighbors\n",
    "        predicted_category = df_without_idx_row.head(k)['category'].value_counts().index[0]\n",
    "        \n",
    "        return predicted_category\n",
    "    \n",
    "    def get_knns(self, k: int = 10) -> None:\n",
    "        '''\n",
    "        Calculate the distances between the points to every row in the df\n",
    "        and select the minimal distance as the knn, attributing it's category\n",
    "        to the predicted value of the row.\n",
    "        '''\n",
    "        \n",
    "        # Get predicted category for every row\n",
    "        knns_cat = self.df.apply(\n",
    "            lambda row: self._get_row_knn_cat(row.name, k),\n",
    "            axis=1\n",
    "        )\n",
    "        self.df['predicted_cat'] = knns_cat\n",
    "        \n",
    "        # Get predicted_color for every row\n",
    "        self.df['predicted_color'] = self.df['predicted_cat'].apply(lambda x: 'red' if x=='A' else 'blue')\n",
    "        \n",
    "    def plot(self) -> None:\n",
    "        '''\n",
    "        Plot the graph of calculated df\n",
    "        '''\n",
    "        plt.scatter(self.df[\"X1\"],self.df[\"X2\"], color=self.df['predicted_color'])\n",
    "        plt.xlim(-110,110)\n",
    "        plt.ylim(-110,110)\n",
    "        plt.show()\n",
    "        \n",
    "    def number_of_errors(self) -> int:\n",
    "        '''\n",
    "        Return number of errors for the calculated df\n",
    "        '''\n",
    "        erros = self.df['predicted_cat'] != self.df['category']\n",
    "        return sum(erros)"
   ]
  },
  {
   "cell_type": "code",
   "execution_count": 122,
   "metadata": {},
   "outputs": [],
   "source": [
    "knn = KNN(df, 'category')"
   ]
  },
  {
   "cell_type": "code",
   "execution_count": 123,
   "metadata": {
    "scrolled": false
   },
   "outputs": [
    {
     "name": "stdout",
     "output_type": "stream",
     "text": [
      "K: 1\n"
     ]
    },
    {
     "data": {
      "image/png": "[encoded data removed]",
      "text/plain": [
       "<Figure size 432x288 with 1 Axes>"
      ]
     },
     "metadata": {
      "needs_background": "light"
     },
     "output_type": "display_data"
    },
    {
     "name": "stdout",
     "output_type": "stream",
     "text": [
      "Errors: 7\n",
      "\n",
      "\n",
      "\n",
      "K: 3\n"
     ]
    },
    {
     "data": {
      "image/png": "[encoded data removed]",
      "text/plain": [
       "<Figure size 432x288 with 1 Axes>"
      ]
     },
     "metadata": {
      "needs_background": "light"
     },
     "output_type": "display_data"
    },
    {
     "name": "stdout",
     "output_type": "stream",
     "text": [
      "Errors: 5\n",
      "\n",
      "\n",
      "\n",
      "K: 5\n"
     ]
    },
    {
     "data": {
      "image/png": "[encoded data removed]",
      "text/plain": [
       "<Figure size 432x288 with 1 Axes>"
      ]
     },
     "metadata": {
      "needs_background": "light"
     },
     "output_type": "display_data"
    },
    {
     "name": "stdout",
     "output_type": "stream",
     "text": [
      "Errors: 4\n",
      "\n",
      "\n",
      "\n",
      "K: 7\n"
     ]
    },
    {
     "data": {
      "image/png": "[encoded data removed]",
      "text/plain": [
       "<Figure size 432x288 with 1 Axes>"
      ]
     },
     "metadata": {
      "needs_background": "light"
     },
     "output_type": "display_data"
    },
    {
     "name": "stdout",
     "output_type": "stream",
     "text": [
      "Errors: 4\n",
      "\n",
      "\n",
      "\n",
      "K: 10\n"
     ]
    },
    {
     "data": {
      "image/png": "[encoded data removed]",
      "text/plain": [
       "<Figure size 432x288 with 1 Axes>"
      ]
     },
     "metadata": {
      "needs_background": "light"
     },
     "output_type": "display_data"
    },
    {
     "name": "stdout",
     "output_type": "stream",
     "text": [
      "Errors: 5\n",
      "\n",
      "\n",
      "\n"
     ]
    }
   ],
   "source": [
    "# Getting the plot and number of errors for different k's\n",
    "for k in [1,3,5,7,10]:\n",
    "    print(f'K: {k}')\n",
    "    knn.get_knns(k)\n",
    "    knn.plot()\n",
    "    print(f'Errors: {knn.number_of_errors()}\\n\\n\\n')"
   ]
  },
  {
   "cell_type": "markdown",
   "metadata": {},
   "source": [
    "As we can see in the comparison above, using different k's yields different results, and we can take the number os errors as a parameter to select the best k. Since the lowest number of errors was for k=5 and k=7, we can select both of them, but we will pick k=5 for being the lowest of the two and reducing the number of interactions needed for computing the nearest neighbours."
   ]
  }
 ],
 "metadata": {
  "kernelspec": {
   "display_name": "Python 3 (ipykernel)",
   "language": "python",
   "name": "python3"
  },
  "language_info": {
   "codemirror_mode": {
    "name": "ipython",
    "version": 3
   },
   "file_extension": ".py",
   "mimetype": "text/x-python",
   "name": "python",
   "nbconvert_exporter": "python",
   "pygments_lexer": "ipython3",
   "version": "3.10.7"
  }
 },
 "nbformat": 4,
 "nbformat_minor": 4
}
